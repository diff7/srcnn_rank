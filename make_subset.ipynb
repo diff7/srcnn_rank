{
 "cells": [
  {
   "cell_type": "code",
   "execution_count": 30,
   "id": "preceding-flooring",
   "metadata": {},
   "outputs": [],
   "source": [
    "import os\n",
    "import numpy as np\n",
    "import pandas as pd\n",
    "import seaborn as sns\n",
    "import matplotlib.pyplot as plt"
   ]
  },
  {
   "cell_type": "code",
   "execution_count": 31,
   "id": "legitimate-symposium",
   "metadata": {},
   "outputs": [
    {
     "data": {
      "text/plain": [
       "605098"
      ]
     },
     "execution_count": 31,
     "metadata": {},
     "output_type": "execute_result"
    }
   ],
   "source": [
    "path = '/home/dev/data_main/DIV2K/processed_50/HR/train/'\n",
    "\n",
    "initial = os.listdir(path)\n",
    "len(initial)"
   ]
  },
  {
   "cell_type": "code",
   "execution_count": 32,
   "id": "corresponding-paradise",
   "metadata": {},
   "outputs": [],
   "source": [
    "#path ='./results/mobilenet_baseline_no_255/ranks/'\n",
    "\n",
    "path = './results/ranks/'\n",
    "\n",
    "files = os.listdir(path)\n",
    "\n",
    "def filter(files, names, epochs, suffix=''):\n",
    "    out = []\n",
    "    for n in names:\n",
    "        for e in epochs:\n",
    "            for f in files:\n",
    "                if f'_{n}' in f and f'ep_{e}.' in f:\n",
    "                    out.append(f)\n",
    "    return out\n",
    "\n",
    "def make_dict(files, path,suffix=''):\n",
    "    out = dict()\n",
    "    for f in files:\n",
    "        with open(os.path.join(path, f)) as file:\n",
    "            lines = file.read()\n",
    "        numbers = [float(l.split(' ')[1]) for l in lines.split('\\n') if len(l)>3]\n",
    "        names = [l.split(' ')[0] for l in lines.split('\\n') if len(l)>3]\n",
    "        name = f.split('_')[1]\n",
    "        ep = f.split('_')[3].replace('.txt','')\n",
    "        #out[f'{name}_ep_{ep}_{suffix}'] = numbers\n",
    "        out[f'{name}'] = numbers\n",
    "        out['names'] = names\n",
    "    return out"
   ]
  },
  {
   "cell_type": "code",
   "execution_count": 4,
   "id": "blind-enterprise",
   "metadata": {},
   "outputs": [],
   "source": [
    "# name = 'MSE'\n",
    "# files_filtered = filter(files, [name, 'SSIM','PSNR'],[1,2,4,6,19])\n",
    "# data = make_dict(files_filtered, path)\n",
    "# frame = pd.DataFrame(data)\n"
   ]
  },
  {
   "cell_type": "code",
   "execution_count": 5,
   "id": "flush-charger",
   "metadata": {},
   "outputs": [],
   "source": [
    "#frame.corr()"
   ]
  },
  {
   "cell_type": "code",
   "execution_count": 49,
   "id": "parallel-energy",
   "metadata": {},
   "outputs": [],
   "source": [
    "name = 'SSIM'\n",
    "files_filtered_zero = filter(files, [name],[0])\n",
    "files_filtered = filter(files, [name],[19])"
   ]
  },
  {
   "cell_type": "code",
   "execution_count": 51,
   "id": "potential-bonus",
   "metadata": {},
   "outputs": [],
   "source": [
    "data_zero = make_dict(files_filtered_zero, path)\n",
    "data = make_dict(files_filtered, path)\n",
    "\n",
    "frame_zero = pd.DataFrame(data_zero)\n",
    "frame = pd.DataFrame(data)\n",
    "\n",
    "frame_n = frame[f'{name}Counter'] - frame_zero[f'{name}Counter']"
   ]
  },
  {
   "cell_type": "markdown",
   "id": "automotive-template",
   "metadata": {},
   "source": [
    "SSIM"
   ]
  },
  {
   "cell_type": "code",
   "execution_count": 52,
   "id": "tropical-congress",
   "metadata": {},
   "outputs": [
    {
     "data": {
      "text/plain": [
       "<AxesSubplot:>"
      ]
     },
     "execution_count": 52,
     "metadata": {},
     "output_type": "execute_result"
    },
    {
     "data": {
      "image/png": "[encoded data removed]",
      "text/plain": [
       "<Figure size 432x288 with 1 Axes>"
      ]
     },
     "metadata": {
      "needs_background": "light"
     },
     "output_type": "display_data"
    }
   ],
   "source": [
    "frame[f'{name}Counter'].hist()"
   ]
  },
  {
   "cell_type": "markdown",
   "id": "parliamentary-holiday",
   "metadata": {},
   "source": [
    "PSNR"
   ]
  },
  {
   "cell_type": "code",
   "execution_count": 48,
   "id": "dressed-meeting",
   "metadata": {},
   "outputs": [
    {
     "data": {
      "text/plain": [
       "<AxesSubplot:>"
      ]
     },
     "execution_count": 48,
     "metadata": {},
     "output_type": "execute_result"
    },
    {
     "data": {
      "image/png": "[encoded data removed]",
      "text/plain": [
       "<Figure size 432x288 with 1 Axes>"
      ]
     },
     "metadata": {
      "needs_background": "light"
     },
     "output_type": "display_data"
    }
   ],
   "source": [
    "frame[f'{name}Counter'].hist()"
   ]
  },
  {
   "cell_type": "markdown",
   "id": "welsh-courage",
   "metadata": {},
   "source": [
    "MSE"
   ]
  },
  {
   "cell_type": "code",
   "execution_count": 35,
   "id": "cubic-flavor",
   "metadata": {},
   "outputs": [
    {
     "data": {
      "text/plain": [
       "<AxesSubplot:>"
      ]
     },
     "execution_count": 35,
     "metadata": {},
     "output_type": "execute_result"
    },
    {
     "data": {
      "image/png": "[encoded data removed]",
      "text/plain": [
       "<Figure size 432x288 with 1 Axes>"
      ]
     },
     "metadata": {
      "needs_background": "light"
     },
     "output_type": "display_data"
    }
   ],
   "source": [
    "frame[f'{name}Counter'].hist()"
   ]
  },
  {
   "cell_type": "code",
   "execution_count": 37,
   "id": "boring-persian",
   "metadata": {},
   "outputs": [
    {
     "data": {
      "text/plain": [
       "<matplotlib.lines.Line2D at 0x7fb39e191a90>"
      ]
     },
     "execution_count": 37,
     "metadata": {},
     "output_type": "execute_result"
    },
    {
     "data": {
      "image/png": "[encoded data removed]",
      "text/plain": [
       "<Figure size 432x288 with 1 Axes>"
      ]
     },
     "metadata": {
      "needs_background": "light"
     },
     "output_type": "display_data"
    }
   ],
   "source": [
    "B = 350_000\n",
    "plt.plot(range(len( frame[f'{name}Counter'].values)), sorted( frame[f'{name}Counter'].values));\n",
    "plt.axvline(x=B)\n",
    "plt.axvline(x=B+int(len(frame_n)*0.3))"
   ]
  },
  {
   "cell_type": "code",
   "execution_count": 10,
   "id": "proprietary-mozambique",
   "metadata": {},
   "outputs": [],
   "source": [
    "# mean = frame.mean().values[0]\n",
    "# std = frame.std().values[0]\n",
    "# right_bound =  frame.max().values[0]\n",
    "# right_bound"
   ]
  },
  {
   "cell_type": "code",
   "execution_count": 38,
   "id": "vanilla-charity",
   "metadata": {},
   "outputs": [
    {
     "data": {
      "text/html": [
       "<div>\n",
       "<style scoped>\n",
       "    .dataframe tbody tr th:only-of-type {\n",
       "        vertical-align: middle;\n",
       "    }\n",
       "\n",
       "    .dataframe tbody tr th {\n",
       "        vertical-align: top;\n",
       "    }\n",
       "\n",
       "    .dataframe thead th {\n",
       "        text-align: right;\n",
       "    }\n",
       "</style>\n",
       "<table border=\"1\" class=\"dataframe\">\n",
       "  <thead>\n",
       "    <tr style=\"text-align: right;\">\n",
       "      <th></th>\n",
       "      <th>MSECounter</th>\n",
       "      <th>names</th>\n",
       "    </tr>\n",
       "  </thead>\n",
       "  <tbody>\n",
       "    <tr>\n",
       "      <th>393183</th>\n",
       "      <td>0.0</td>\n",
       "      <td>/home/dev/data_main/DIV2K/processed_50/LR/trai...</td>\n",
       "    </tr>\n",
       "    <tr>\n",
       "      <th>149703</th>\n",
       "      <td>0.0</td>\n",
       "      <td>/home/dev/data_main/DIV2K/processed_50/LR/trai...</td>\n",
       "    </tr>\n",
       "    <tr>\n",
       "      <th>414798</th>\n",
       "      <td>0.0</td>\n",
       "      <td>/home/dev/data_main/DIV2K/processed_50/LR/trai...</td>\n",
       "    </tr>\n",
       "    <tr>\n",
       "      <th>266870</th>\n",
       "      <td>0.0</td>\n",
       "      <td>/home/dev/data_main/DIV2K/processed_50/LR/trai...</td>\n",
       "    </tr>\n",
       "    <tr>\n",
       "      <th>6454</th>\n",
       "      <td>0.0</td>\n",
       "      <td>/home/dev/data_main/DIV2K/processed_50/LR/trai...</td>\n",
       "    </tr>\n",
       "  </tbody>\n",
       "</table>\n",
       "</div>"
      ],
      "text/plain": [
       "        MSECounter                                              names\n",
       "393183         0.0  /home/dev/data_main/DIV2K/processed_50/LR/trai...\n",
       "149703         0.0  /home/dev/data_main/DIV2K/processed_50/LR/trai...\n",
       "414798         0.0  /home/dev/data_main/DIV2K/processed_50/LR/trai...\n",
       "266870         0.0  /home/dev/data_main/DIV2K/processed_50/LR/trai...\n",
       "6454           0.0  /home/dev/data_main/DIV2K/processed_50/LR/trai..."
      ]
     },
     "execution_count": 38,
     "metadata": {},
     "output_type": "execute_result"
    }
   ],
   "source": [
    "frame_sorted = frame.sort_values(by=f'{name}Counter')\n",
    "frame_sorted.head()"
   ]
  },
  {
   "cell_type": "code",
   "execution_count": 12,
   "id": "noted-seattle",
   "metadata": {},
   "outputs": [
    {
     "data": {
      "text/plain": [
       "605098"
      ]
     },
     "execution_count": 12,
     "metadata": {},
     "output_type": "execute_result"
    }
   ],
   "source": [
    "frame_sorted.shape[0]"
   ]
  },
  {
   "cell_type": "code",
   "execution_count": 39,
   "id": "bored-supply",
   "metadata": {},
   "outputs": [
    {
     "data": {
      "text/plain": [
       "181529"
      ]
     },
     "execution_count": 39,
     "metadata": {},
     "output_type": "execute_result"
    }
   ],
   "source": [
    "int(frame_sorted.shape[0]*0.3)"
   ]
  },
  {
   "cell_type": "markdown",
   "id": "cloudy-thought",
   "metadata": {},
   "source": [
    "### 30% subset "
   ]
  },
  {
   "cell_type": "code",
   "execution_count": 40,
   "id": "extraordinary-davis",
   "metadata": {},
   "outputs": [],
   "source": [
    "B = 350_000\n",
    "subset_size = int(frame_sorted.shape[0]*0.3)"
   ]
  },
  {
   "cell_type": "code",
   "execution_count": 41,
   "id": "driven-reception",
   "metadata": {},
   "outputs": [
    {
     "data": {
      "text/plain": [
       "181529"
      ]
     },
     "execution_count": 41,
     "metadata": {},
     "output_type": "execute_result"
    }
   ],
   "source": [
    "selected = frame_sorted['names'].to_list()[B: B + subset_size]\n",
    "len(selected)"
   ]
  },
  {
   "cell_type": "code",
   "execution_count": 42,
   "id": "uniform-terrace",
   "metadata": {},
   "outputs": [],
   "source": [
    "#os.makedirs('./subsets/')\n",
    "folder = './subsets/'\n",
    "name = 'MSE_3_5e5_linear.txt'"
   ]
  },
  {
   "cell_type": "code",
   "execution_count": 43,
   "id": "variable-indonesia",
   "metadata": {},
   "outputs": [],
   "source": [
    "selected = [l.split(' ')[0].split('/')[-1] for l in selected]"
   ]
  },
  {
   "cell_type": "code",
   "execution_count": 44,
   "id": "compound-snowboard",
   "metadata": {},
   "outputs": [
    {
     "data": {
      "text/plain": [
       "'0431_780_1080.png'"
      ]
     },
     "execution_count": 44,
     "metadata": {},
     "output_type": "execute_result"
    }
   ],
   "source": [
    "selected[0]"
   ]
  },
  {
   "cell_type": "code",
   "execution_count": 45,
   "id": "unusual-rough",
   "metadata": {},
   "outputs": [],
   "source": [
    "with open(os.path.join(folder, name),'w') as f:\n",
    "    for line in selected:\n",
    "        f.write(line+'\\n')"
   ]
  },
  {
   "cell_type": "markdown",
   "id": "tight-armor",
   "metadata": {},
   "source": [
    "### SAVE RANDOM SUBSET"
   ]
  },
  {
   "cell_type": "code",
   "execution_count": 20,
   "id": "white-shift",
   "metadata": {},
   "outputs": [],
   "source": [
    "folder = './subsets/'\n",
    "name = 'RANDOM_30.txt'\n",
    "\n",
    "subset_size = 181529"
   ]
  },
  {
   "cell_type": "code",
   "execution_count": 21,
   "id": "veterinary-share",
   "metadata": {},
   "outputs": [],
   "source": [
    "subset_final = frame_sorted.sample(subset_size)\n",
    "selected_rand = [s.split('/')[-1] for s in subset_final.names.to_list()]"
   ]
  },
  {
   "cell_type": "code",
   "execution_count": 22,
   "id": "centered-brunei",
   "metadata": {},
   "outputs": [
    {
     "data": {
      "text/plain": [
       "['0764_780_0.png',\n",
       " '0303_900_660.png',\n",
       " '0149_1560_1800.png',\n",
       " '0778_600_1080.png']"
      ]
     },
     "execution_count": 22,
     "metadata": {},
     "output_type": "execute_result"
    }
   ],
   "source": [
    "selected_rand[:4]"
   ]
  },
  {
   "cell_type": "code",
   "execution_count": 23,
   "id": "stretch-sentence",
   "metadata": {},
   "outputs": [
    {
     "data": {
      "text/plain": [
       "['0511_300_780.png',\n",
       " '0460_900_1020.png',\n",
       " '0631_540_1440.png',\n",
       " '0504_840_1920.png']"
      ]
     },
     "execution_count": 23,
     "metadata": {},
     "output_type": "execute_result"
    }
   ],
   "source": [
    "selected[:4]"
   ]
  },
  {
   "cell_type": "code",
   "execution_count": 24,
   "id": "growing-wiring",
   "metadata": {},
   "outputs": [
    {
     "data": {
      "text/plain": [
       "54703"
      ]
     },
     "execution_count": 24,
     "metadata": {},
     "output_type": "execute_result"
    }
   ],
   "source": [
    "len(set(selected_rand).intersection(set(selected)))"
   ]
  },
  {
   "cell_type": "code",
   "execution_count": null,
   "id": "infectious-trout",
   "metadata": {},
   "outputs": [],
   "source": []
  },
  {
   "cell_type": "code",
   "execution_count": 26,
   "id": "present-margin",
   "metadata": {},
   "outputs": [],
   "source": [
    "with open(os.path.join(folder, name),'w') as f:\n",
    "    for line in selected_rand:\n",
    "        f.write(line+'\\n')"
   ]
  },
  {
   "cell_type": "code",
   "execution_count": 27,
   "id": "mighty-radio",
   "metadata": {},
   "outputs": [],
   "source": [
    "with open('./subsets/RANDOM_30.txt') as f:\n",
    "    s = f.read()"
   ]
  }
 ],
 "metadata": {
  "kernelspec": {
   "display_name": "Python 3",
   "language": "python",
   "name": "python3"
  },
  "language_info": {
   "codemirror_mode": {
    "name": "ipython",
    "version": 3
   },
   "file_extension": ".py",
   "mimetype": "text/x-python",
   "name": "python",
   "nbconvert_exporter": "python",
   "pygments_lexer": "ipython3",
   "version": "3.7.7"
  }
 },
 "nbformat": 4,
 "nbformat_minor": 5
}
